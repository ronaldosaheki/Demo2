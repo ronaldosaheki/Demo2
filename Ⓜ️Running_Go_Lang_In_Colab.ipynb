{
  "nbformat": 4,
  "nbformat_minor": 0,
  "metadata": {
    "colab": {
      "provenance": [],
      "collapsed_sections": [
        "C-68gn27DW8M",
        "TpbCc48IEDA-",
        "iDnxHPDlqhKU",
        "bDSRjnrkqmjY"
      ],
      "include_colab_link": true
    },
    "kernelspec": {
      "name": "python3",
      "display_name": "Python 3"
    },
    "language_info": {
      "name": "python"
    }
  },
  "cells": [
    {
      "cell_type": "markdown",
      "metadata": {
        "id": "view-in-github",
        "colab_type": "text"
      },
      "source": [
        "<a href=\"https://colab.research.google.com/github/ronaldosaheki/Demo2/blob/master/%E2%93%82%EF%B8%8FRunning_Go_Lang_In_Colab.ipynb\" target=\"_parent\"><img src=\"https://colab.research.google.com/assets/colab-badge.svg\" alt=\"Open In Colab\"/></a>"
      ]
    },
    {
      "cell_type": "markdown",
      "source": [
        "# (0) Preparation - Install Go Lang"
      ],
      "metadata": {
        "id": "C-68gn27DW8M"
      }
    },
    {
      "cell_type": "code",
      "execution_count": 1,
      "metadata": {
        "colab": {
          "base_uri": "https://localhost:8080/"
        },
        "id": "rAn9fYboCwEL",
        "outputId": "af5b1d33-baef-44b9-b2a0-2917f9cca644"
      },
      "outputs": [
        {
          "output_type": "stream",
          "name": "stdout",
          "text": [
            "Repository: 'deb https://ppa.launchpadcontent.net/longsleep/golang-backports/ubuntu/ jammy main'\n",
            "Description:\n",
            "Golang 1.8, 1.9, 1.10, 1.11, 1.12, 1.13, 1.14, 1.15, 1.16, 1.17, 1.18, 1.19, 1.20 and 1.21 PPA for Ubuntu\n",
            "More info: https://launchpad.net/~longsleep/+archive/ubuntu/golang-backports\n",
            "Adding repository.\n",
            "Adding deb entry to /etc/apt/sources.list.d/longsleep-ubuntu-golang-backports-jammy.list\n",
            "Adding disabled deb-src entry to /etc/apt/sources.list.d/longsleep-ubuntu-golang-backports-jammy.list\n",
            "Adding key to /etc/apt/trusted.gpg.d/longsleep-ubuntu-golang-backports.gpg with fingerprint 52B59B1571A79DBC054901C0F6BC817356A3D45E\n",
            "Get:1 http://security.ubuntu.com/ubuntu jammy-security InRelease [110 kB]\n",
            "Get:2 https://cloud.r-project.org/bin/linux/ubuntu jammy-cran40/ InRelease [3,626 B]\n",
            "Hit:3 https://developer.download.nvidia.com/compute/cuda/repos/ubuntu2204/x86_64  InRelease\n",
            "Hit:4 http://archive.ubuntu.com/ubuntu jammy InRelease\n",
            "Get:5 http://archive.ubuntu.com/ubuntu jammy-updates InRelease [119 kB]\n",
            "Hit:6 https://ppa.launchpadcontent.net/c2d4u.team/c2d4u4.0+/ubuntu jammy InRelease\n",
            "Get:7 http://security.ubuntu.com/ubuntu jammy-security/multiverse amd64 Packages [44.0 kB]\n",
            "Hit:8 https://ppa.launchpadcontent.net/deadsnakes/ppa/ubuntu jammy InRelease\n",
            "Hit:9 http://archive.ubuntu.com/ubuntu jammy-backports InRelease\n",
            "Hit:10 https://ppa.launchpadcontent.net/graphics-drivers/ppa/ubuntu jammy InRelease\n",
            "Get:11 https://ppa.launchpadcontent.net/longsleep/golang-backports/ubuntu jammy InRelease [17.5 kB]\n",
            "Hit:12 https://ppa.launchpadcontent.net/ubuntugis/ppa/ubuntu jammy InRelease\n",
            "Get:13 http://archive.ubuntu.com/ubuntu jammy-updates/main amd64 Packages [1,473 kB]\n",
            "Get:14 http://archive.ubuntu.com/ubuntu jammy-updates/multiverse amd64 Packages [49.8 kB]\n",
            "Get:15 http://archive.ubuntu.com/ubuntu jammy-updates/universe amd64 Packages [1,278 kB]\n",
            "Get:16 https://ppa.launchpadcontent.net/longsleep/golang-backports/ubuntu jammy/main amd64 Packages [5,639 B]\n",
            "Fetched 3,100 kB in 2s (1,546 kB/s)\n",
            "Reading package lists... Done\n",
            "Hit:1 http://security.ubuntu.com/ubuntu jammy-security InRelease\n",
            "Hit:2 https://cloud.r-project.org/bin/linux/ubuntu jammy-cran40/ InRelease\n",
            "Hit:3 https://developer.download.nvidia.com/compute/cuda/repos/ubuntu2204/x86_64  InRelease\n",
            "Hit:4 https://ppa.launchpadcontent.net/c2d4u.team/c2d4u4.0+/ubuntu jammy InRelease\n",
            "Hit:5 https://ppa.launchpadcontent.net/deadsnakes/ppa/ubuntu jammy InRelease\n",
            "Hit:6 https://ppa.launchpadcontent.net/graphics-drivers/ppa/ubuntu jammy InRelease\n",
            "Hit:7 http://archive.ubuntu.com/ubuntu jammy InRelease\n",
            "Hit:8 http://archive.ubuntu.com/ubuntu jammy-updates InRelease\n",
            "Hit:9 http://archive.ubuntu.com/ubuntu jammy-backports InRelease\n",
            "Hit:10 https://ppa.launchpadcontent.net/longsleep/golang-backports/ubuntu jammy InRelease\n",
            "Hit:11 https://ppa.launchpadcontent.net/ubuntugis/ppa/ubuntu jammy InRelease\n",
            "Reading package lists... Done\n",
            "Building dependency tree... Done\n",
            "Reading state information... Done\n",
            "9 packages can be upgraded. Run 'apt list --upgradable' to see them.\n",
            "Reading package lists... Done\n",
            "Building dependency tree... Done\n",
            "Reading state information... Done\n",
            "The following additional packages will be installed:\n",
            "  golang-1.21-go golang-1.21-src golang-src\n",
            "Suggested packages:\n",
            "  bzr | brz mercurial subversion\n",
            "The following NEW packages will be installed:\n",
            "  golang-1.21-go golang-1.21-src golang-go golang-src\n",
            "0 upgraded, 4 newly installed, 0 to remove and 9 not upgraded.\n",
            "Need to get 42.2 MB of archives.\n",
            "After this operation, 219 MB of additional disk space will be used.\n",
            "Get:1 https://ppa.launchpadcontent.net/longsleep/golang-backports/ubuntu jammy/main amd64 golang-1.21-src all 1.21.4-1longsleep1+focal [18.5 MB]\n",
            "Get:2 https://ppa.launchpadcontent.net/longsleep/golang-backports/ubuntu jammy/main amd64 golang-1.21-go amd64 1.21.4-1longsleep1+focal [23.6 MB]\n",
            "Get:3 https://ppa.launchpadcontent.net/longsleep/golang-backports/ubuntu jammy/main amd64 golang-src amd64 2:1.21~1longsleep1 [5,148 B]\n",
            "Get:4 https://ppa.launchpadcontent.net/longsleep/golang-backports/ubuntu jammy/main amd64 golang-go amd64 2:1.21~1longsleep1 [24.2 kB]\n",
            "Fetched 42.2 MB in 2s (18.1 MB/s)\n",
            "Selecting previously unselected package golang-1.21-src.\n",
            "(Reading database ... 120880 files and directories currently installed.)\n",
            "Preparing to unpack .../golang-1.21-src_1.21.4-1longsleep1+focal_all.deb ...\n",
            "Unpacking golang-1.21-src (1.21.4-1longsleep1+focal) ...\n",
            "Selecting previously unselected package golang-1.21-go.\n",
            "Preparing to unpack .../golang-1.21-go_1.21.4-1longsleep1+focal_amd64.deb ...\n",
            "Unpacking golang-1.21-go (1.21.4-1longsleep1+focal) ...\n",
            "Selecting previously unselected package golang-src:amd64.\n",
            "Preparing to unpack .../golang-src_2%3a1.21~1longsleep1_amd64.deb ...\n",
            "Unpacking golang-src:amd64 (2:1.21~1longsleep1) ...\n",
            "Selecting previously unselected package golang-go.\n",
            "Preparing to unpack .../golang-go_2%3a1.21~1longsleep1_amd64.deb ...\n",
            "Unpacking golang-go (2:1.21~1longsleep1) ...\n",
            "Setting up golang-1.21-src (1.21.4-1longsleep1+focal) ...\n",
            "Setting up golang-src:amd64 (2:1.21~1longsleep1) ...\n",
            "Setting up golang-1.21-go (1.21.4-1longsleep1+focal) ...\n",
            "Setting up golang-go (2:1.21~1longsleep1) ...\n",
            "Processing triggers for man-db (2.10.2-1) ...\n",
            "env: GOPATH=/root/go\n",
            "go: go.mod file not found in current directory or any parent directory.\n",
            "\t'go get' is no longer supported outside a module.\n",
            "\tTo build and install a command, use 'go install' with a version,\n",
            "\tlike 'go install example.com/cmd@latest'\n",
            "\tFor more information, see https://golang.org/doc/go-get-install-deprecation\n",
            "\tor run 'go help get' or 'go help install'.\n",
            "cp: cannot stat '/root/go/bin/gophernotes': No such file or directory\n",
            "cp: cannot stat '/root/go/src/github.com/gopherdata/gophernotes/kernel/*': No such file or directory\n"
          ]
        }
      ],
      "source": [
        "# (1.1) run this cell first time using python runtime\n",
        "!add-apt-repository ppa:longsleep/golang-backports -y\n",
        "!apt update\n",
        "!apt install golang-go\n",
        "%env GOPATH=/root/go\n",
        "!go get -u github.com/gopherdata/gophernotes\n",
        "!cp ~/go/bin/gophernotes /usr/bin/\n",
        "!mkdir /usr/local/share/jupyter/kernels/gophernotes\n",
        "!cp ~/go/src/github.com/gopherdata/gophernotes/kernel/* \\\n",
        "       /usr/local/share/jupyter/kernels/gophernotes\n",
        "# (1.2) then refresh, it will now use gophernotes. Skip to golang in later cells"
      ]
    },
    {
      "cell_type": "markdown",
      "source": [
        "#(1) Get started with Go"
      ],
      "metadata": {
        "id": "TpbCc48IEDA-"
      }
    },
    {
      "cell_type": "code",
      "source": [
        "!mkdir -p /content/example/hello\n",
        "%cd /content/example/hello"
      ],
      "metadata": {
        "colab": {
          "base_uri": "https://localhost:8080/"
        },
        "id": "0L39KsSBECL6",
        "outputId": "da67755e-b53d-4aba-b8d6-93ac81c252c9"
      },
      "execution_count": 2,
      "outputs": [
        {
          "output_type": "stream",
          "name": "stdout",
          "text": [
            "/content/example/hello\n"
          ]
        }
      ]
    },
    {
      "cell_type": "code",
      "source": [
        "!go mod init example/hello"
      ],
      "metadata": {
        "colab": {
          "base_uri": "https://localhost:8080/"
        },
        "id": "LCCIdQMnFNtn",
        "outputId": "8c45f42f-cfcb-475c-9adb-d5bb0fdeb051"
      },
      "execution_count": 3,
      "outputs": [
        {
          "output_type": "stream",
          "name": "stdout",
          "text": [
            "go: creating new go.mod: module example/hello\n"
          ]
        }
      ]
    },
    {
      "cell_type": "code",
      "source": [
        "file_name ='/content/example/hello/hello.go'\n",
        "file_content = '''package main\n",
        "\n",
        "import \"fmt\"\n",
        "\n",
        "func main() {\n",
        "    fmt.Println(\"Hello, World!\")\n",
        "}\n",
        "'''\n",
        "print(file_content,  file=open(file_name, 'w'))"
      ],
      "metadata": {
        "id": "BWGO3NldGAdx"
      },
      "execution_count": 4,
      "outputs": []
    },
    {
      "cell_type": "markdown",
      "source": [
        "![image.png](data:image/png;base64,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)"
      ],
      "metadata": {
        "id": "ocpYKX-er2rA"
      }
    },
    {
      "cell_type": "code",
      "source": [
        "!go run ."
      ],
      "metadata": {
        "colab": {
          "base_uri": "https://localhost:8080/"
        },
        "id": "oFB3WGOzGiF5",
        "outputId": "1e96879f-e8d0-48d9-a43b-f64b76fdd32a"
      },
      "execution_count": 5,
      "outputs": [
        {
          "output_type": "stream",
          "name": "stdout",
          "text": [
            "Hello, World!\n"
          ]
        }
      ]
    },
    {
      "cell_type": "markdown",
      "source": [
        "#(2) Create a Module"
      ],
      "metadata": {
        "id": "IgPc_LV1qfut"
      }
    },
    {
      "cell_type": "markdown",
      "source": [
        "## Module: Greetings"
      ],
      "metadata": {
        "id": "iDnxHPDlqhKU"
      }
    },
    {
      "cell_type": "code",
      "source": [
        "!mkdir -p /content/example/greetings\n",
        "%cd /content/example/greetings"
      ],
      "metadata": {
        "colab": {
          "base_uri": "https://localhost:8080/"
        },
        "id": "zML6hJi0MHkx",
        "outputId": "daf06ec7-2be5-4f93-ac15-278cd2f2d9ad"
      },
      "execution_count": 6,
      "outputs": [
        {
          "output_type": "stream",
          "name": "stdout",
          "text": [
            "/content/example/greetings\n"
          ]
        }
      ]
    },
    {
      "cell_type": "code",
      "source": [
        "!go mod init example.com/greetings"
      ],
      "metadata": {
        "colab": {
          "base_uri": "https://localhost:8080/"
        },
        "id": "Ii2kyWn8MbdR",
        "outputId": "7e429184-2c21-4b5a-b9fd-aad9eb01c4da"
      },
      "execution_count": 7,
      "outputs": [
        {
          "output_type": "stream",
          "name": "stdout",
          "text": [
            "go: creating new go.mod: module example.com/greetings\n"
          ]
        }
      ]
    },
    {
      "cell_type": "code",
      "source": [
        "file_name ='/content/example/greetings/greetings.go'\n",
        "file_content = '''package greetings\n",
        "\n",
        "import \"fmt\"\n",
        "\n",
        "// Hello returns a greeting for the named person.\n",
        "func Hello(name string) string {\n",
        "    // Return a greeting that embeds the name in a message.\n",
        "    message := fmt.Sprintf(\"Hi, %v. Welcome!\", name)\n",
        "    return message\n",
        "}\n",
        "'''\n",
        "print(file_content,  file=open(file_name, 'w'))"
      ],
      "metadata": {
        "id": "c-RuKDC3M-im"
      },
      "execution_count": 8,
      "outputs": []
    },
    {
      "cell_type": "markdown",
      "source": [
        "![image.png](data:image/png;base64,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)"
      ],
      "metadata": {
        "id": "2VO18YIxrdbq"
      }
    },
    {
      "cell_type": "markdown",
      "source": [
        "## Module: Hello"
      ],
      "metadata": {
        "id": "bDSRjnrkqmjY"
      }
    },
    {
      "cell_type": "code",
      "source": [
        "%cd /content/example/hello"
      ],
      "metadata": {
        "colab": {
          "base_uri": "https://localhost:8080/"
        },
        "id": "JrSmkDLIOiZV",
        "outputId": "bbac804f-fcd7-4625-aedb-5279a5d92d9e"
      },
      "execution_count": 9,
      "outputs": [
        {
          "output_type": "stream",
          "name": "stdout",
          "text": [
            "/content/example/hello\n"
          ]
        }
      ]
    },
    {
      "cell_type": "code",
      "source": [
        "file_name ='/content/example/hello/hello.go'\n",
        "file_content = '''package main\n",
        "\n",
        "import (\n",
        "    \"fmt\"\n",
        "\n",
        "    \"example.com/greetings\"\n",
        ")\n",
        "\n",
        "func main() {\n",
        "    // Get a greeting message and print it.\n",
        "    message := greetings.Hello(\"Gladys\")\n",
        "    fmt.Println(message)\n",
        "}\n",
        "'''\n",
        "print(file_content,  file=open(file_name, 'w'))"
      ],
      "metadata": {
        "id": "VJ55DRlsO7oX"
      },
      "execution_count": 10,
      "outputs": []
    },
    {
      "cell_type": "markdown",
      "source": [
        "![image.png](data:image/png;base64,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)"
      ],
      "metadata": {
        "id": "3sZeL43urohP"
      }
    },
    {
      "cell_type": "code",
      "source": [
        "!go mod edit -replace example.com/greetings=../greetings"
      ],
      "metadata": {
        "id": "P2uTz2kVPZXM"
      },
      "execution_count": 11,
      "outputs": []
    },
    {
      "cell_type": "code",
      "source": [
        "!go mod tidy"
      ],
      "metadata": {
        "colab": {
          "base_uri": "https://localhost:8080/"
        },
        "id": "xH6iFMzMjyUz",
        "outputId": "3d8168d7-27ab-41da-b90b-731bde42c15c"
      },
      "execution_count": 12,
      "outputs": [
        {
          "output_type": "stream",
          "name": "stdout",
          "text": [
            "go: found example.com/greetings in example.com/greetings v0.0.0-00010101000000-000000000000\n"
          ]
        }
      ]
    },
    {
      "cell_type": "code",
      "source": [
        "!go run ."
      ],
      "metadata": {
        "colab": {
          "base_uri": "https://localhost:8080/"
        },
        "id": "hiO0Gtqll4U0",
        "outputId": "eb575f2f-933b-4b95-c157-0aedd04f0b32"
      },
      "execution_count": 13,
      "outputs": [
        {
          "output_type": "stream",
          "name": "stdout",
          "text": [
            "Hi, Gladys. Welcome!\n"
          ]
        }
      ]
    }
  ]
}